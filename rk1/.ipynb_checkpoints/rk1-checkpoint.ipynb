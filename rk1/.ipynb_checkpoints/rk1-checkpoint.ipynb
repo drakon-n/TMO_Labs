{
 "cells": [
  {
   "cell_type": "markdown",
   "metadata": {},
   "source": [
    "# Рубежный контроль №1,\n",
    "Турусов Владислав, ИУ5-64, Вариант №15, Задание №2, Набор данных №7"
   ]
  },
  {
   "cell_type": "markdown",
   "metadata": {},
   "source": [
    "# Задание\n",
    "Для заданного набора данных проведите обработку пропусков в данных для одного категориального и одного количественного признака. Какие способы обработки пропусков в данных для категориальных и количественных признаков Вы использовали? Какие признаки Вы будете использовать для дальнейшего построения моделей машинного обучения и почему?"
   ]
  },
  {
   "cell_type": "markdown",
   "metadata": {},
   "source": [
    "# Дополнительное задание\n",
    "Для произвольной колонки данных построить график \"Скрипичная диаграмма (violin plot)\""
   ]
  },
  {
   "cell_type": "markdown",
   "metadata": {},
   "source": [
    "# Решение"
   ]
  },
  {
   "cell_type": "code",
   "execution_count": 3,
   "metadata": {},
   "outputs": [
    {
     "data": {
      "text/html": [
       "<div>\n",
       "<style scoped>\n",
       "    .dataframe tbody tr th:only-of-type {\n",
       "        vertical-align: middle;\n",
       "    }\n",
       "\n",
       "    .dataframe tbody tr th {\n",
       "        vertical-align: top;\n",
       "    }\n",
       "\n",
       "    .dataframe thead th {\n",
       "        text-align: right;\n",
       "    }\n",
       "</style>\n",
       "<table border=\"1\" class=\"dataframe\">\n",
       "  <thead>\n",
       "    <tr style=\"text-align: right;\">\n",
       "      <th></th>\n",
       "      <th>business_id</th>\n",
       "      <th>business_name</th>\n",
       "      <th>business_address</th>\n",
       "      <th>business_city</th>\n",
       "      <th>business_state</th>\n",
       "      <th>business_postal_code</th>\n",
       "      <th>business_latitude</th>\n",
       "      <th>business_longitude</th>\n",
       "      <th>business_location</th>\n",
       "      <th>business_phone_number</th>\n",
       "      <th>inspection_id</th>\n",
       "      <th>inspection_date</th>\n",
       "      <th>inspection_score</th>\n",
       "      <th>inspection_type</th>\n",
       "      <th>violation_id</th>\n",
       "      <th>violation_description</th>\n",
       "      <th>risk_category</th>\n",
       "    </tr>\n",
       "  </thead>\n",
       "  <tbody>\n",
       "    <tr>\n",
       "      <th>0</th>\n",
       "      <td>69618</td>\n",
       "      <td>Fancy Wheatfield Bakery</td>\n",
       "      <td>1362 Stockton St</td>\n",
       "      <td>San Francisco</td>\n",
       "      <td>CA</td>\n",
       "      <td>94133</td>\n",
       "      <td>NaN</td>\n",
       "      <td>NaN</td>\n",
       "      <td>NaN</td>\n",
       "      <td>NaN</td>\n",
       "      <td>69618_20190304</td>\n",
       "      <td>2019-03-04T00:00:00.000</td>\n",
       "      <td>NaN</td>\n",
       "      <td>Complaint</td>\n",
       "      <td>69618_20190304_103130</td>\n",
       "      <td>Inadequate sewage or wastewater disposal</td>\n",
       "      <td>Moderate Risk</td>\n",
       "    </tr>\n",
       "    <tr>\n",
       "      <th>1</th>\n",
       "      <td>97975</td>\n",
       "      <td>BREADBELLY</td>\n",
       "      <td>1408 Clement St</td>\n",
       "      <td>San Francisco</td>\n",
       "      <td>CA</td>\n",
       "      <td>94118</td>\n",
       "      <td>NaN</td>\n",
       "      <td>NaN</td>\n",
       "      <td>NaN</td>\n",
       "      <td>1.415724e+10</td>\n",
       "      <td>97975_20190725</td>\n",
       "      <td>2019-07-25T00:00:00.000</td>\n",
       "      <td>96.0</td>\n",
       "      <td>Routine - Unscheduled</td>\n",
       "      <td>97975_20190725_103124</td>\n",
       "      <td>Inadequately cleaned or sanitized food contact...</td>\n",
       "      <td>Moderate Risk</td>\n",
       "    </tr>\n",
       "    <tr>\n",
       "      <th>2</th>\n",
       "      <td>69487</td>\n",
       "      <td>Hakkasan San Francisco</td>\n",
       "      <td>1 Kearny St</td>\n",
       "      <td>San Francisco</td>\n",
       "      <td>CA</td>\n",
       "      <td>94108</td>\n",
       "      <td>NaN</td>\n",
       "      <td>NaN</td>\n",
       "      <td>NaN</td>\n",
       "      <td>NaN</td>\n",
       "      <td>69487_20180418</td>\n",
       "      <td>2018-04-18T00:00:00.000</td>\n",
       "      <td>88.0</td>\n",
       "      <td>Routine - Unscheduled</td>\n",
       "      <td>69487_20180418_103119</td>\n",
       "      <td>Inadequate and inaccessible handwashing facili...</td>\n",
       "      <td>Moderate Risk</td>\n",
       "    </tr>\n",
       "    <tr>\n",
       "      <th>3</th>\n",
       "      <td>91044</td>\n",
       "      <td>Chopsticks Restaurant</td>\n",
       "      <td>4615 Mission St</td>\n",
       "      <td>San Francisco</td>\n",
       "      <td>CA</td>\n",
       "      <td>94112</td>\n",
       "      <td>NaN</td>\n",
       "      <td>NaN</td>\n",
       "      <td>NaN</td>\n",
       "      <td>NaN</td>\n",
       "      <td>91044_20170818</td>\n",
       "      <td>2017-08-18T00:00:00.000</td>\n",
       "      <td>NaN</td>\n",
       "      <td>Non-inspection site visit</td>\n",
       "      <td>NaN</td>\n",
       "      <td>NaN</td>\n",
       "      <td>NaN</td>\n",
       "    </tr>\n",
       "    <tr>\n",
       "      <th>4</th>\n",
       "      <td>85987</td>\n",
       "      <td>Tselogs</td>\n",
       "      <td>552 Jones St</td>\n",
       "      <td>San Francisco</td>\n",
       "      <td>CA</td>\n",
       "      <td>94102</td>\n",
       "      <td>NaN</td>\n",
       "      <td>NaN</td>\n",
       "      <td>NaN</td>\n",
       "      <td>NaN</td>\n",
       "      <td>85987_20180412</td>\n",
       "      <td>2018-04-12T00:00:00.000</td>\n",
       "      <td>94.0</td>\n",
       "      <td>Routine - Unscheduled</td>\n",
       "      <td>85987_20180412_103132</td>\n",
       "      <td>Improper thawing methods</td>\n",
       "      <td>Moderate Risk</td>\n",
       "    </tr>\n",
       "  </tbody>\n",
       "</table>\n",
       "</div>"
      ],
      "text/plain": [
       "   business_id            business_name  business_address  business_city business_state business_postal_code  business_latitude  business_longitude  \\\n",
       "0        69618  Fancy Wheatfield Bakery  1362 Stockton St  San Francisco             CA                94133                NaN                 NaN   \n",
       "1        97975               BREADBELLY   1408 Clement St  San Francisco             CA                94118                NaN                 NaN   \n",
       "2        69487   Hakkasan San Francisco       1 Kearny St  San Francisco             CA                94108                NaN                 NaN   \n",
       "3        91044    Chopsticks Restaurant   4615 Mission St  San Francisco             CA                94112                NaN                 NaN   \n",
       "4        85987                  Tselogs      552 Jones St  San Francisco             CA                94102                NaN                 NaN   \n",
       "\n",
       "  business_location  business_phone_number   inspection_id          inspection_date  inspection_score            inspection_type  \\\n",
       "0               NaN                    NaN  69618_20190304  2019-03-04T00:00:00.000               NaN                  Complaint   \n",
       "1               NaN           1.415724e+10  97975_20190725  2019-07-25T00:00:00.000              96.0      Routine - Unscheduled   \n",
       "2               NaN                    NaN  69487_20180418  2018-04-18T00:00:00.000              88.0      Routine - Unscheduled   \n",
       "3               NaN                    NaN  91044_20170818  2017-08-18T00:00:00.000               NaN  Non-inspection site visit   \n",
       "4               NaN                    NaN  85987_20180412  2018-04-12T00:00:00.000              94.0      Routine - Unscheduled   \n",
       "\n",
       "            violation_id                              violation_description  risk_category  \n",
       "0  69618_20190304_103130           Inadequate sewage or wastewater disposal  Moderate Risk  \n",
       "1  97975_20190725_103124  Inadequately cleaned or sanitized food contact...  Moderate Risk  \n",
       "2  69487_20180418_103119  Inadequate and inaccessible handwashing facili...  Moderate Risk  \n",
       "3                    NaN                                                NaN            NaN  \n",
       "4  85987_20180412_103132                           Improper thawing methods  Moderate Risk  "
      ]
     },
     "execution_count": 3,
     "metadata": {},
     "output_type": "execute_result"
    }
   ],
   "source": [
    "import pandas as pd\n",
    "import numpy as np\n",
    "import seaborn as sns\n",
    "\n",
    "\n",
    "#регулируем настройки экрана для отчета\n",
    "pd.set_option(\"display.width\", 150)\n",
    "pd.set_option('display.max_columns', None)\n",
    "\n",
    "#загружаем данные\n",
    "data = pd.read_csv('data.csv')\n",
    "data.head()"
   ]
  },
  {
   "cell_type": "code",
   "execution_count": 4,
   "metadata": {},
   "outputs": [
    {
     "data": {
      "text/plain": [
       "business_id                int64\n",
       "business_name             object\n",
       "business_address          object\n",
       "business_city             object\n",
       "business_state            object\n",
       "business_postal_code      object\n",
       "business_latitude        float64\n",
       "business_longitude       float64\n",
       "business_location         object\n",
       "business_phone_number    float64\n",
       "inspection_id             object\n",
       "inspection_date           object\n",
       "inspection_score         float64\n",
       "inspection_type           object\n",
       "violation_id              object\n",
       "violation_description     object\n",
       "risk_category             object\n",
       "dtype: object"
      ]
     },
     "execution_count": 4,
     "metadata": {},
     "output_type": "execute_result"
    }
   ],
   "source": [
    "data.dtypes"
   ]
  },
  {
   "cell_type": "code",
   "execution_count": 5,
   "metadata": {},
   "outputs": [
    {
     "data": {
      "text/plain": [
       "(53973, 17)"
      ]
     },
     "execution_count": 5,
     "metadata": {},
     "output_type": "execute_result"
    }
   ],
   "source": [
    "data.shape"
   ]
  },
  {
   "cell_type": "markdown",
   "metadata": {},
   "source": [
    "Проверим наличие пропусков"
   ]
  },
  {
   "cell_type": "code",
   "execution_count": 6,
   "metadata": {},
   "outputs": [
    {
     "data": {
      "text/plain": [
       "business_id                  0\n",
       "business_name                0\n",
       "business_address             0\n",
       "business_city                0\n",
       "business_state               0\n",
       "business_postal_code      1083\n",
       "business_latitude        24095\n",
       "business_longitude       24095\n",
       "business_location        24095\n",
       "business_phone_number    36539\n",
       "inspection_id                0\n",
       "inspection_date              0\n",
       "inspection_score         14114\n",
       "inspection_type              0\n",
       "violation_id             13462\n",
       "violation_description    13462\n",
       "risk_category            13462\n",
       "dtype: int64"
      ]
     },
     "execution_count": 6,
     "metadata": {},
     "output_type": "execute_result"
    }
   ],
   "source": [
    "data.isnull().sum()"
   ]
  },
  {
   "cell_type": "markdown",
   "metadata": {},
   "source": [
    "Выполним замену для количественного признака inspection_score."
   ]
  },
  {
   "cell_type": "code",
   "execution_count": 7,
   "metadata": {},
   "outputs": [
    {
     "data": {
      "text/plain": [
       "14114"
      ]
     },
     "execution_count": 7,
     "metadata": {},
     "output_type": "execute_result"
    }
   ],
   "source": [
    "data['inspection_score'].isna().sum()"
   ]
  },
  {
   "cell_type": "markdown",
   "metadata": {},
   "source": [
    "Получим среднее"
   ]
  },
  {
   "cell_type": "code",
   "execution_count": 10,
   "metadata": {},
   "outputs": [
    {
     "data": {
      "text/plain": [
       "86.23525427130636"
      ]
     },
     "execution_count": 10,
     "metadata": {},
     "output_type": "execute_result"
    }
   ],
   "source": [
    "mean = data['inspection_score'].mean()\n",
    "mean"
   ]
  },
  {
   "cell_type": "markdown",
   "metadata": {},
   "source": [
    "Выполним замену и проверим количество пустых значений:"
   ]
  },
  {
   "cell_type": "code",
   "execution_count": 11,
   "metadata": {},
   "outputs": [
    {
     "data": {
      "text/plain": [
       "0"
      ]
     },
     "execution_count": 11,
     "metadata": {},
     "output_type": "execute_result"
    }
   ],
   "source": [
    "data['inspection_score'].fillna(mean, inplace=True)\n",
    "data['inspection_score'].isna().sum()"
   ]
  },
  {
   "cell_type": "markdown",
   "metadata": {},
   "source": [
    "Выполним удаление для категориального признака risk_category\n"
   ]
  },
  {
   "cell_type": "markdown",
   "metadata": {},
   "source": [
    "Проверим число пропусков"
   ]
  },
  {
   "cell_type": "code",
   "execution_count": 12,
   "metadata": {},
   "outputs": [
    {
     "data": {
      "text/plain": [
       "13462"
      ]
     },
     "execution_count": 12,
     "metadata": {},
     "output_type": "execute_result"
    }
   ],
   "source": [
    "data['risk_category'].isna().sum()"
   ]
  },
  {
   "cell_type": "markdown",
   "metadata": {},
   "source": [
    "Удалим строки, содержащие нулевое значение колонки risk_category"
   ]
  },
  {
   "cell_type": "code",
   "execution_count": 13,
   "metadata": {},
   "outputs": [],
   "source": [
    "data = data[~data['risk_category'].isna()]"
   ]
  },
  {
   "cell_type": "markdown",
   "metadata": {},
   "source": [
    "Проверим количество пустых значений поля risk_category:"
   ]
  },
  {
   "cell_type": "code",
   "execution_count": 14,
   "metadata": {},
   "outputs": [
    {
     "data": {
      "text/plain": [
       "0"
      ]
     },
     "execution_count": 14,
     "metadata": {},
     "output_type": "execute_result"
    }
   ],
   "source": [
    "data['risk_category'].isna().sum()"
   ]
  },
  {
   "cell_type": "markdown",
   "metadata": {},
   "source": [
    "# Дополнительное задание\n",
    "Построим график \"Скрипичная диаграмма\" (Violin plot) для поля inspectional_score"
   ]
  },
  {
   "cell_type": "code",
   "execution_count": 15,
   "metadata": {},
   "outputs": [
    {
     "data": {
      "text/plain": [
       "<matplotlib.axes._subplots.AxesSubplot at 0x11b531190>"
      ]
     },
     "execution_count": 15,
     "metadata": {},
     "output_type": "execute_result"
    },
    {
     "data": {
      "image/png": "[encoded data removed]",
      "text/plain": [
       "<Figure size 432x288 with 1 Axes>"
      ]
     },
     "metadata": {
      "needs_background": "light"
     },
     "output_type": "display_data"
    }
   ],
   "source": [
    "sns.violinplot(x=data['inspection_score'])"
   ]
  }
 ],
 "metadata": {
  "kernelspec": {
   "display_name": "Python 3",
   "language": "python",
   "name": "python3"
  },
  "language_info": {
   "codemirror_mode": {
    "name": "ipython",
    "version": 3
   },
   "file_extension": ".py",
   "mimetype": "text/x-python",
   "name": "python",
   "nbconvert_exporter": "python",
   "pygments_lexer": "ipython3",
   "version": "3.7.4"
  }
 },
 "nbformat": 4,
 "nbformat_minor": 4
}
